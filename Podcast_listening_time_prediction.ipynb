{
 "cells": [
  {
   "cell_type": "code",
   "execution_count": 18,
   "id": "d5c05dc5-2e85-4cf4-8d96-2133a043a035",
   "metadata": {},
   "outputs": [],
   "source": [
    "import pandas as pd\n",
    "import numpy as np"
   ]
  },
  {
   "cell_type": "code",
   "execution_count": 2,
   "id": "8bd11b38-39a8-4471-b0ef-9fece056f77e",
   "metadata": {},
   "outputs": [],
   "source": [
    "import os\n",
    "current_dir = os.getcwd()\n",
    "data_dir = current_dir + \"/data\""
   ]
  },
  {
   "cell_type": "code",
   "execution_count": 3,
   "id": "58f61ae6-b785-40c8-a7dd-1aa900114d23",
   "metadata": {},
   "outputs": [],
   "source": [
    "train_df = pd.read_csv(data_dir + \"/train.csv\")\n",
    "train_df.set_index('id', inplace = True)"
   ]
  },
  {
   "cell_type": "markdown",
   "id": "60f7bc84-bd71-43c6-aa5e-8786f678f295",
   "metadata": {},
   "source": [
    "## Sanity Check"
   ]
  },
  {
   "cell_type": "code",
   "execution_count": 4,
   "id": "52270c3b-b41f-410e-8729-51fde3f39f91",
   "metadata": {},
   "outputs": [
    {
     "data": {
      "text/html": [
       "<div>\n",
       "<style scoped>\n",
       "    .dataframe tbody tr th:only-of-type {\n",
       "        vertical-align: middle;\n",
       "    }\n",
       "\n",
       "    .dataframe tbody tr th {\n",
       "        vertical-align: top;\n",
       "    }\n",
       "\n",
       "    .dataframe thead th {\n",
       "        text-align: right;\n",
       "    }\n",
       "</style>\n",
       "<table border=\"1\" class=\"dataframe\">\n",
       "  <thead>\n",
       "    <tr style=\"text-align: right;\">\n",
       "      <th></th>\n",
       "      <th>Podcast_Name</th>\n",
       "      <th>Episode_Title</th>\n",
       "      <th>Episode_Length_minutes</th>\n",
       "      <th>Genre</th>\n",
       "      <th>Host_Popularity_percentage</th>\n",
       "      <th>Publication_Day</th>\n",
       "      <th>Publication_Time</th>\n",
       "      <th>Guest_Popularity_percentage</th>\n",
       "      <th>Number_of_Ads</th>\n",
       "      <th>Episode_Sentiment</th>\n",
       "      <th>Listening_Time_minutes</th>\n",
       "    </tr>\n",
       "    <tr>\n",
       "      <th>id</th>\n",
       "      <th></th>\n",
       "      <th></th>\n",
       "      <th></th>\n",
       "      <th></th>\n",
       "      <th></th>\n",
       "      <th></th>\n",
       "      <th></th>\n",
       "      <th></th>\n",
       "      <th></th>\n",
       "      <th></th>\n",
       "      <th></th>\n",
       "    </tr>\n",
       "  </thead>\n",
       "  <tbody>\n",
       "    <tr>\n",
       "      <th>0</th>\n",
       "      <td>Mystery Matters</td>\n",
       "      <td>Episode 98</td>\n",
       "      <td>NaN</td>\n",
       "      <td>True Crime</td>\n",
       "      <td>74.81</td>\n",
       "      <td>Thursday</td>\n",
       "      <td>Night</td>\n",
       "      <td>NaN</td>\n",
       "      <td>0.0</td>\n",
       "      <td>Positive</td>\n",
       "      <td>31.41998</td>\n",
       "    </tr>\n",
       "    <tr>\n",
       "      <th>1</th>\n",
       "      <td>Joke Junction</td>\n",
       "      <td>Episode 26</td>\n",
       "      <td>119.80</td>\n",
       "      <td>Comedy</td>\n",
       "      <td>66.95</td>\n",
       "      <td>Saturday</td>\n",
       "      <td>Afternoon</td>\n",
       "      <td>75.95</td>\n",
       "      <td>2.0</td>\n",
       "      <td>Negative</td>\n",
       "      <td>88.01241</td>\n",
       "    </tr>\n",
       "    <tr>\n",
       "      <th>2</th>\n",
       "      <td>Study Sessions</td>\n",
       "      <td>Episode 16</td>\n",
       "      <td>73.90</td>\n",
       "      <td>Education</td>\n",
       "      <td>69.97</td>\n",
       "      <td>Tuesday</td>\n",
       "      <td>Evening</td>\n",
       "      <td>8.97</td>\n",
       "      <td>0.0</td>\n",
       "      <td>Negative</td>\n",
       "      <td>44.92531</td>\n",
       "    </tr>\n",
       "    <tr>\n",
       "      <th>3</th>\n",
       "      <td>Digital Digest</td>\n",
       "      <td>Episode 45</td>\n",
       "      <td>67.17</td>\n",
       "      <td>Technology</td>\n",
       "      <td>57.22</td>\n",
       "      <td>Monday</td>\n",
       "      <td>Morning</td>\n",
       "      <td>78.70</td>\n",
       "      <td>2.0</td>\n",
       "      <td>Positive</td>\n",
       "      <td>46.27824</td>\n",
       "    </tr>\n",
       "    <tr>\n",
       "      <th>4</th>\n",
       "      <td>Mind &amp; Body</td>\n",
       "      <td>Episode 86</td>\n",
       "      <td>110.51</td>\n",
       "      <td>Health</td>\n",
       "      <td>80.07</td>\n",
       "      <td>Monday</td>\n",
       "      <td>Afternoon</td>\n",
       "      <td>58.68</td>\n",
       "      <td>3.0</td>\n",
       "      <td>Neutral</td>\n",
       "      <td>75.61031</td>\n",
       "    </tr>\n",
       "  </tbody>\n",
       "</table>\n",
       "</div>"
      ],
      "text/plain": [
       "       Podcast_Name Episode_Title  Episode_Length_minutes       Genre  \\\n",
       "id                                                                      \n",
       "0   Mystery Matters    Episode 98                     NaN  True Crime   \n",
       "1     Joke Junction    Episode 26                  119.80      Comedy   \n",
       "2    Study Sessions    Episode 16                   73.90   Education   \n",
       "3    Digital Digest    Episode 45                   67.17  Technology   \n",
       "4       Mind & Body    Episode 86                  110.51      Health   \n",
       "\n",
       "    Host_Popularity_percentage Publication_Day Publication_Time  \\\n",
       "id                                                                \n",
       "0                        74.81        Thursday            Night   \n",
       "1                        66.95        Saturday        Afternoon   \n",
       "2                        69.97         Tuesday          Evening   \n",
       "3                        57.22          Monday          Morning   \n",
       "4                        80.07          Monday        Afternoon   \n",
       "\n",
       "    Guest_Popularity_percentage  Number_of_Ads Episode_Sentiment  \\\n",
       "id                                                                 \n",
       "0                           NaN            0.0          Positive   \n",
       "1                         75.95            2.0          Negative   \n",
       "2                          8.97            0.0          Negative   \n",
       "3                         78.70            2.0          Positive   \n",
       "4                         58.68            3.0           Neutral   \n",
       "\n",
       "    Listening_Time_minutes  \n",
       "id                          \n",
       "0                 31.41998  \n",
       "1                 88.01241  \n",
       "2                 44.92531  \n",
       "3                 46.27824  \n",
       "4                 75.61031  "
      ]
     },
     "execution_count": 4,
     "metadata": {},
     "output_type": "execute_result"
    }
   ],
   "source": [
    "train_df.head()"
   ]
  },
  {
   "cell_type": "code",
   "execution_count": 5,
   "id": "ad19b871-3e4e-47ce-bc1c-5191d65d7965",
   "metadata": {},
   "outputs": [
    {
     "data": {
      "text/html": [
       "<div>\n",
       "<style scoped>\n",
       "    .dataframe tbody tr th:only-of-type {\n",
       "        vertical-align: middle;\n",
       "    }\n",
       "\n",
       "    .dataframe tbody tr th {\n",
       "        vertical-align: top;\n",
       "    }\n",
       "\n",
       "    .dataframe thead th {\n",
       "        text-align: right;\n",
       "    }\n",
       "</style>\n",
       "<table border=\"1\" class=\"dataframe\">\n",
       "  <thead>\n",
       "    <tr style=\"text-align: right;\">\n",
       "      <th></th>\n",
       "      <th>Episode_Length_minutes</th>\n",
       "      <th>Host_Popularity_percentage</th>\n",
       "      <th>Guest_Popularity_percentage</th>\n",
       "      <th>Number_of_Ads</th>\n",
       "      <th>Listening_Time_minutes</th>\n",
       "    </tr>\n",
       "  </thead>\n",
       "  <tbody>\n",
       "    <tr>\n",
       "      <th>count</th>\n",
       "      <td>662907.000000</td>\n",
       "      <td>750000.000000</td>\n",
       "      <td>603970.000000</td>\n",
       "      <td>749999.000000</td>\n",
       "      <td>750000.000000</td>\n",
       "    </tr>\n",
       "    <tr>\n",
       "      <th>mean</th>\n",
       "      <td>64.504738</td>\n",
       "      <td>59.859901</td>\n",
       "      <td>52.236449</td>\n",
       "      <td>1.348855</td>\n",
       "      <td>45.437406</td>\n",
       "    </tr>\n",
       "    <tr>\n",
       "      <th>std</th>\n",
       "      <td>32.969603</td>\n",
       "      <td>22.873098</td>\n",
       "      <td>28.451241</td>\n",
       "      <td>1.151130</td>\n",
       "      <td>27.138306</td>\n",
       "    </tr>\n",
       "    <tr>\n",
       "      <th>min</th>\n",
       "      <td>0.000000</td>\n",
       "      <td>1.300000</td>\n",
       "      <td>0.000000</td>\n",
       "      <td>0.000000</td>\n",
       "      <td>0.000000</td>\n",
       "    </tr>\n",
       "    <tr>\n",
       "      <th>25%</th>\n",
       "      <td>35.730000</td>\n",
       "      <td>39.410000</td>\n",
       "      <td>28.380000</td>\n",
       "      <td>0.000000</td>\n",
       "      <td>23.178350</td>\n",
       "    </tr>\n",
       "    <tr>\n",
       "      <th>50%</th>\n",
       "      <td>63.840000</td>\n",
       "      <td>60.050000</td>\n",
       "      <td>53.580000</td>\n",
       "      <td>1.000000</td>\n",
       "      <td>43.379460</td>\n",
       "    </tr>\n",
       "    <tr>\n",
       "      <th>75%</th>\n",
       "      <td>94.070000</td>\n",
       "      <td>79.530000</td>\n",
       "      <td>76.600000</td>\n",
       "      <td>2.000000</td>\n",
       "      <td>64.811580</td>\n",
       "    </tr>\n",
       "    <tr>\n",
       "      <th>max</th>\n",
       "      <td>325.240000</td>\n",
       "      <td>119.460000</td>\n",
       "      <td>119.910000</td>\n",
       "      <td>103.910000</td>\n",
       "      <td>119.970000</td>\n",
       "    </tr>\n",
       "  </tbody>\n",
       "</table>\n",
       "</div>"
      ],
      "text/plain": [
       "       Episode_Length_minutes  Host_Popularity_percentage  \\\n",
       "count           662907.000000               750000.000000   \n",
       "mean                64.504738                   59.859901   \n",
       "std                 32.969603                   22.873098   \n",
       "min                  0.000000                    1.300000   \n",
       "25%                 35.730000                   39.410000   \n",
       "50%                 63.840000                   60.050000   \n",
       "75%                 94.070000                   79.530000   \n",
       "max                325.240000                  119.460000   \n",
       "\n",
       "       Guest_Popularity_percentage  Number_of_Ads  Listening_Time_minutes  \n",
       "count                603970.000000  749999.000000           750000.000000  \n",
       "mean                     52.236449       1.348855               45.437406  \n",
       "std                      28.451241       1.151130               27.138306  \n",
       "min                       0.000000       0.000000                0.000000  \n",
       "25%                      28.380000       0.000000               23.178350  \n",
       "50%                      53.580000       1.000000               43.379460  \n",
       "75%                      76.600000       2.000000               64.811580  \n",
       "max                     119.910000     103.910000              119.970000  "
      ]
     },
     "execution_count": 5,
     "metadata": {},
     "output_type": "execute_result"
    }
   ],
   "source": [
    "train_df.describe()"
   ]
  },
  {
   "cell_type": "code",
   "execution_count": 6,
   "id": "d3d33e96-fbe2-4281-b513-531463f7ff80",
   "metadata": {},
   "outputs": [
    {
     "data": {
      "text/plain": [
       "Podcast_Name                        0\n",
       "Episode_Title                       0\n",
       "Episode_Length_minutes          87093\n",
       "Genre                               0\n",
       "Host_Popularity_percentage          0\n",
       "Publication_Day                     0\n",
       "Publication_Time                    0\n",
       "Guest_Popularity_percentage    146030\n",
       "Number_of_Ads                       1\n",
       "Episode_Sentiment                   0\n",
       "Listening_Time_minutes              0\n",
       "dtype: int64"
      ]
     },
     "execution_count": 6,
     "metadata": {},
     "output_type": "execute_result"
    }
   ],
   "source": [
    "train_df.isnull().sum()"
   ]
  },
  {
   "cell_type": "markdown",
   "id": "bbf7e366-5d92-4472-9e02-e1597705f67a",
   "metadata": {},
   "source": [
    "Since, there's only one row with ``Number_of_Ads`` has a null value, I will drop that particular row from training data"
   ]
  },
  {
   "cell_type": "code",
   "execution_count": 7,
   "id": "25913630-aa17-42e9-a190-1f0dd499f64a",
   "metadata": {},
   "outputs": [],
   "source": [
    "train_df.dropna(subset=['Number_of_Ads'], inplace = True)"
   ]
  },
  {
   "cell_type": "code",
   "execution_count": 9,
   "id": "c1c9d9fb-4883-4572-b163-a056f2c1f149",
   "metadata": {},
   "outputs": [
    {
     "data": {
      "text/plain": [
       "Podcast_Name                        0\n",
       "Episode_Title                       0\n",
       "Episode_Length_minutes          87093\n",
       "Genre                               0\n",
       "Host_Popularity_percentage          0\n",
       "Publication_Day                     0\n",
       "Publication_Time                    0\n",
       "Guest_Popularity_percentage    146030\n",
       "Number_of_Ads                       0\n",
       "Episode_Sentiment                   0\n",
       "dtype: int64"
      ]
     },
     "execution_count": 9,
     "metadata": {},
     "output_type": "execute_result"
    }
   ],
   "source": [
    "train_df.isnull().sum()"
   ]
  },
  {
   "cell_type": "code",
   "execution_count": 12,
   "id": "f29c0a2a-4653-4fe8-ab28-025f151b8b2f",
   "metadata": {},
   "outputs": [
    {
     "data": {
      "text/plain": [
       "np.int64(0)"
      ]
     },
     "execution_count": 12,
     "metadata": {},
     "output_type": "execute_result"
    }
   ],
   "source": [
    "train_df.duplicated().sum()"
   ]
  },
  {
   "cell_type": "code",
   "execution_count": 23,
   "id": "52f4fbdb-3e04-4dfc-b5f3-95d485b6807a",
   "metadata": {},
   "outputs": [
    {
     "name": "stdout",
     "output_type": "stream",
     "text": [
      "<class 'pandas.core.frame.DataFrame'>\n",
      "Index: 749999 entries, 0 to 749999\n",
      "Data columns (total 10 columns):\n",
      " #   Column                       Non-Null Count   Dtype  \n",
      "---  ------                       --------------   -----  \n",
      " 0   Podcast_Name                 749999 non-null  object \n",
      " 1   Episode_Title                749999 non-null  object \n",
      " 2   Episode_Length_minutes       662906 non-null  float64\n",
      " 3   Genre                        749999 non-null  object \n",
      " 4   Host_Popularity_percentage   749999 non-null  float64\n",
      " 5   Publication_Day              749999 non-null  object \n",
      " 6   Publication_Time             749999 non-null  object \n",
      " 7   Guest_Popularity_percentage  603969 non-null  float64\n",
      " 8   Number_of_Ads                749999 non-null  float64\n",
      " 9   Episode_Sentiment            749999 non-null  object \n",
      "dtypes: float64(4), object(6)\n",
      "memory usage: 62.9+ MB\n"
     ]
    }
   ],
   "source": [
    "train_df.info()"
   ]
  },
  {
   "cell_type": "markdown",
   "id": "1f04c023-c086-467c-a6fd-fef3e66640ef",
   "metadata": {},
   "source": [
    "## Conclusion of sanity check:\n",
    "Here, we notice a couple of points:\n",
    "1. There are a lot of null values in the dataset. Especially in ``Episode_Length_minutes`` and ``Guest_Popularity_percentage``.\n",
    "2. **Data-type validation**: We notice that there are a few ``object`` type.\n",
    "3. ``Number_of_Ads`` field has values that differ drastically from the values in other non-null numeric columns."
   ]
  },
  {
   "cell_type": "markdown",
   "id": "b7fcaf9e-283a-47e2-8769-9503ea5aeb3a",
   "metadata": {},
   "source": [
    "## EDA\n",
    "First, I will look for any outliers in non Null numerical features.\n",
    "For this, I will use a **boxplot**"
   ]
  },
  {
   "cell_type": "code",
   "execution_count": 14,
   "id": "db6376fe-b1b0-4925-83e7-30b05795a184",
   "metadata": {},
   "outputs": [],
   "source": [
    "import seaborn as sns\n",
    "import matplotlib.pyplot as plt"
   ]
  },
  {
   "cell_type": "code",
   "execution_count": 15,
   "id": "cabdb722-b8df-4a2e-bb30-9eadb54e3caf",
   "metadata": {},
   "outputs": [
    {
     "data": {
      "image/png": "[encoded data removed]",
      "text/plain": [
       "<Figure size 640x480 with 1 Axes>"
      ]
     },
     "metadata": {},
     "output_type": "display_data"
    },
    {
     "data": {
      "image/png": "[encoded data removed]",
      "text/plain": [
       "<Figure size 640x480 with 1 Axes>"
      ]
     },
     "metadata": {},
     "output_type": "display_data"
    },
    {
     "data": {
      "image/png": "[encoded data removed]",
      "text/plain": [
       "<Figure size 640x480 with 1 Axes>"
      ]
     },
     "metadata": {},
     "output_type": "display_data"
    },
    {
     "data": {
      "image/png": "[encoded data removed]",
      "text/plain": [
       "<Figure size 640x480 with 1 Axes>"
      ]
     },
     "metadata": {},
     "output_type": "display_data"
    }
   ],
   "source": [
    "for i in X_train.select_dtypes(include = 'number').columns:\n",
    "    sns.boxplot(data = X_train, x = i)\n",
    "    plt.show()"
   ]
  },
  {
   "cell_type": "markdown",
   "id": "e8e49b6c-b17a-4d31-8595-7a04f6bc2a63",
   "metadata": {},
   "source": [
    "### Thoughts?\n",
    "Here we notice most of the non-null numeric features are pretty consistent, except the ``Number_of_Ads``, which has a few outliers. Here I will first calculate the IQR, and then subtract ``1.5 * iqr`` from lower whisker and add ``1.5 * iqr`` to the upper whisker"
   ]
  },
  {
   "cell_type": "code",
   "execution_count": 16,
   "id": "b4d2e2a1-65a3-4fbb-8715-0bc566d09ec8",
   "metadata": {},
   "outputs": [],
   "source": [
    "def wisker(col):\n",
    "    q1, q3 = np.percentile(col, [25, 75])\n",
    "    iqr = q3 - q1\n",
    "    lw = q1 - (1.5 * iqr)\n",
    "    uw = q3 + (1.5 * iqr)\n",
    "    return lw, uw"
   ]
  },
  {
   "cell_type": "code",
   "execution_count": 20,
   "id": "0272608a-2815-43d3-8f34-2c057b095966",
   "metadata": {},
   "outputs": [],
   "source": [
    "lw, uw = wisker(train_df['Number_of_Ads'])\n",
    "train_df['Number_of_Ads'] = np.where(train_df['Number_of_Ads'] < lw, lw, train_df['Number_of_Ads'])\n",
    "train_df['Number_of_Ads'] = np.where(train_df['Number_of_Ads'] > uw, uw, train_df['Number_of_Ads'])"
   ]
  },
  {
   "cell_type": "code",
   "execution_count": 21,
   "id": "213f7e60-1067-4238-a063-96f5df0ecc4d",
   "metadata": {},
   "outputs": [
    {
     "data": {
      "text/plain": [
       "<Axes: xlabel='Number_of_Ads'>"
      ]
     },
     "execution_count": 21,
     "metadata": {},
     "output_type": "execute_result"
    },
    {
     "data": {
      "image/png": "[encoded data removed]",
      "text/plain": [
       "<Figure size 640x480 with 1 Axes>"
      ]
     },
     "metadata": {},
     "output_type": "display_data"
    }
   ],
   "source": [
    "sns.boxplot(data = train_df, x = 'Number_of_Ads')"
   ]
  },
  {
   "cell_type": "code",
   "execution_count": 8,
   "id": "4b92766d-3a6e-44fc-ac80-472250f5d554",
   "metadata": {},
   "outputs": [],
   "source": [
    "y = train_df.pop('Listening_Time_minutes')"
   ]
  },
  {
   "cell_type": "code",
   "execution_count": 10,
   "id": "a71517d0-a41e-447d-81be-a673e0701c16",
   "metadata": {},
   "outputs": [],
   "source": [
    "from sklearn.model_selection import train_test_split\n",
    "X_train, X_valid, y_train, y_valid = train_test_split(train_df, y, test_size = 0.2, random_state = 42)"
   ]
  },
  {
   "cell_type": "code",
   "execution_count": 11,
   "id": "9955a939-a0bc-4d3f-9ab1-98c6553d5143",
   "metadata": {},
   "outputs": [
    {
     "data": {
      "text/plain": [
       "((599999, 10), (150000, 10), (599999,), (150000,))"
      ]
     },
     "execution_count": 11,
     "metadata": {},
     "output_type": "execute_result"
    }
   ],
   "source": [
    "X_train.shape, X_valid.shape, y_train.shape, y_valid.shape"
   ]
  },
  {
   "cell_type": "code",
   "execution_count": null,
   "id": "7d80826b-533a-42c2-a6c0-ed6efa7b5dfd",
   "metadata": {},
   "outputs": [],
   "source": []
  },
  {
   "cell_type": "code",
   "execution_count": null,
   "id": "1ede3a5d-ab3a-4e3e-b3e3-5d1fa4d23d8c",
   "metadata": {},
   "outputs": [],
   "source": []
  },
  {
   "cell_type": "code",
   "execution_count": null,
   "id": "5a9ea53a-f1c6-48c1-a5c3-34746e67c4e8",
   "metadata": {},
   "outputs": [],
   "source": []
  },
  {
   "cell_type": "code",
   "execution_count": null,
   "id": "a7fb6329-963a-4b1c-b19c-331f1bef8e76",
   "metadata": {},
   "outputs": [],
   "source": []
  },
  {
   "cell_type": "code",
   "execution_count": null,
   "id": "10b1cae9-7534-4e69-96ac-dcc0ab33b570",
   "metadata": {},
   "outputs": [],
   "source": []
  }
 ],
 "metadata": {
  "kernelspec": {
   "display_name": "Python 3 (ipykernel)",
   "language": "python",
   "name": "python3"
  },
  "language_info": {
   "codemirror_mode": {
    "name": "ipython",
    "version": 3
   },
   "file_extension": ".py",
   "mimetype": "text/x-python",
   "name": "python",
   "nbconvert_exporter": "python",
   "pygments_lexer": "ipython3",
   "version": "3.13.5"
  }
 },
 "nbformat": 4,
 "nbformat_minor": 5
}
